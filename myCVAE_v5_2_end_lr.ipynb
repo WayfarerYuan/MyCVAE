{
 "cells": [
  {
   "cell_type": "code",
   "execution_count": 1,
   "metadata": {
    "ExecutionIndicator": {
     "show": true
    },
    "execution": {
     "iopub.execute_input": "2023-08-07T10:01:58.893721Z",
     "iopub.status.busy": "2023-08-07T10:01:58.893531Z",
     "iopub.status.idle": "2023-08-07T10:01:59.960409Z",
     "shell.execute_reply": "2023-08-07T10:01:59.959834Z",
     "shell.execute_reply.started": "2023-08-07T10:01:58.893701Z"
    },
    "tags": []
   },
   "outputs": [],
   "source": [
    "import torch\n",
    "import torch.nn as nn\n",
    "import torch.optim as optim\n",
    "import matplotlib.pyplot as plt\n",
    "import numpy as np\n",
    "from torchvision import datasets, transforms\n",
    "from torch.utils.data import DataLoader\n",
    "from tqdm import tqdm\n",
    "from torch.nn import functional as F\n",
    "from torch.optim.lr_scheduler import CosineAnnealingLR\n",
    "\n",
    "# 定义模型\n",
    "class Encoder(nn.Module):\n",
    "    def __init__(self, input_dim, hidden_dim_1, hidden_dim_2, categorical_dim):\n",
    "        super(Encoder, self).__init__()\n",
    "        self.fc1 = nn.Linear(input_dim, hidden_dim_1)\n",
    "        self.fc2 = nn.Linear(hidden_dim_1, hidden_dim_2)\n",
    "        self.fc3 = nn.Linear(hidden_dim_2, categorical_dim)\n",
    "\n",
    "    def forward(self, x):\n",
    "        x = torch.relu(self.fc1(x))\n",
    "        x = torch.relu(self.fc2(x))\n",
    "        logits = self.fc3(x)\n",
    "        return logits\n",
    "\n",
    "class Decoder(nn.Module):\n",
    "    def __init__(self, categorical_dim, hidden_dim_1, hidden_dim_2, output_dim):\n",
    "        super(Decoder, self).__init__()\n",
    "        self.fc1 = nn.Linear(categorical_dim, hidden_dim_2)\n",
    "        self.fc2 = nn.Linear(hidden_dim_2, hidden_dim_1)\n",
    "        self.fc3 = nn.Linear(hidden_dim_1, output_dim)\n",
    "\n",
    "    def forward(self, x):\n",
    "        x = torch.relu(self.fc1(x))\n",
    "        x = torch.relu(self.fc2(x))\n",
    "        x = torch.sigmoid(self.fc3(x))  # 确保输出在[0,1]范围内\n",
    "        return x\n",
    "\n",
    "def gumbel_softmax(logits, temperature):\n",
    "    gs = F.gumbel_softmax(logits, tau=temperature, hard=False, dim=-1)\n",
    "    return gs\n"
   ]
  },
  {
   "cell_type": "code",
   "execution_count": 2,
   "metadata": {
    "execution": {
     "iopub.execute_input": "2023-08-07T10:01:59.961581Z",
     "iopub.status.busy": "2023-08-07T10:01:59.961423Z",
     "iopub.status.idle": "2023-08-07T10:01:59.968278Z",
     "shell.execute_reply": "2023-08-07T10:01:59.967789Z",
     "shell.execute_reply.started": "2023-08-07T10:01:59.961562Z"
    }
   },
   "outputs": [],
   "source": [
    "device = torch.device(\"cuda\" if torch.cuda.is_available() else \"cpu\")"
   ]
  },
  {
   "cell_type": "code",
   "execution_count": 3,
   "metadata": {
    "ExecutionIndicator": {
     "show": true
    },
    "execution": {
     "iopub.execute_input": "2023-08-07T10:01:59.969775Z",
     "iopub.status.busy": "2023-08-07T10:01:59.969636Z",
     "iopub.status.idle": "2023-08-07T10:01:59.986410Z",
     "shell.execute_reply": "2023-08-07T10:01:59.985933Z",
     "shell.execute_reply.started": "2023-08-07T10:01:59.969758Z"
    },
    "tags": []
   },
   "outputs": [],
   "source": [
    "def train_and_plot(dataset_name, hidden_dim_1, hidden_dim_2, batch_size, epochs, initial_lr, end_lr, temperature, final_temperature, beta):\n",
    "    # 加载数据\n",
    "    transform = transforms.Compose([transforms.ToTensor(), transforms.Lambda(lambda x: x.view(-1))])\n",
    "    if dataset_name == \"MNIST\":\n",
    "        dataset = datasets.MNIST('./data', train=True, download=True, transform=transform)\n",
    "    elif dataset_name == \"FashionMNIST\":\n",
    "        dataset = datasets.FashionMNIST('./data', train=True, download=True, transform=transform)\n",
    "    elif dataset_name == \"EMNIST\":\n",
    "        dataset = datasets.EMNIST('./data', train=True, download=True, transform=transform, split='balanced')\n",
    "    dataset_img_size = dataset[0][0].shape[0]\n",
    "    # get the number of classes\n",
    "    classes = []\n",
    "    for _, label in dataset:\n",
    "        if label not in classes:\n",
    "            classes.append(label)\n",
    "    num_classes = len(classes)\n",
    "    categorical_dim = num_classes\n",
    "    input_dim = output_dim = dataset_img_size\n",
    "\n",
    "    dataloader = DataLoader(dataset, batch_size=batch_size, shuffle=True)\n",
    "    annealing_rate = (temperature - final_temperature) / (epochs * len(dataloader))\n",
    "\n",
    "    # 创建模型\n",
    "    encoder = Encoder(input_dim, hidden_dim_1, hidden_dim_2, categorical_dim)\n",
    "    decoder = Decoder(categorical_dim, hidden_dim_1, hidden_dim_2, output_dim)\n",
    "    encoder, decoder = encoder.to(device), decoder.to(device)\n",
    "\n",
    "    # Optimizer & Scheduler\n",
    "    optimizer = optim.AdamW(list(encoder.parameters()) + list(decoder.parameters()), lr=initial_lr)\n",
    "    # optimizer = Prodigy(list(encoder.parameters()) + list(decoder.parameters()), lr=initial_lr)\n",
    "    scheduler = CosineAnnealingLR(optimizer, T_max=(len(dataloader) * epochs), eta_min=end_lr)\n",
    "\n",
    "    # initialize the loss lists\n",
    "    recon_losses = []\n",
    "    kl_losses = []\n",
    "    total_losses = []\n",
    "    lr_list = []\n",
    "    temperature_list = []\n",
    "\n",
    "    # initialize the progress bar\n",
    "    progress_bar = tqdm(total=(len(dataloader) * epochs), desc=\"Training Progress\")\n",
    "\n",
    "    # train the model\n",
    "    for epoch in range(epochs):\n",
    "        for batch in dataloader:\n",
    "            x, labels_in_batch = batch\n",
    "            x, labels_in_batch = x.to(device), labels_in_batch.to(device)\n",
    "            x = x.view(-1, input_dim)  # 确保x的形状\n",
    "            logits = encoder(x)\n",
    "            z = gumbel_softmax(logits, temperature)\n",
    "            x_recon = decoder(z)\n",
    "\n",
    "            # calculate the losses\n",
    "            try:\n",
    "                recon_loss = F.binary_cross_entropy(x_recon, x, reduction='sum') / x.shape[0]\n",
    "            except:\n",
    "                break\n",
    "            log_softmax_logits = F.log_softmax(logits, dim=-1)\n",
    "            uniform_distribution = torch.ones_like(log_softmax_logits) * (1.0 / categorical_dim)\n",
    "            one_hot_labels = torch.zeros_like(log_softmax_logits).scatter_(1, labels_in_batch.unsqueeze(1), 1.0)\n",
    "            kl_loss = F.kl_div(log_softmax_logits, one_hot_labels, reduction='sum') * beta\n",
    "            loss = recon_loss + kl_loss\n",
    "\n",
    "            # gradient descent & backpropagation\n",
    "            optimizer.zero_grad()\n",
    "            loss.backward()\n",
    "            optimizer.step()\n",
    "\n",
    "            # log the losses\n",
    "            recon_losses.append(recon_loss.item())\n",
    "            kl_losses.append(kl_loss.item())\n",
    "            total_losses.append(loss.item())\n",
    "            lr_list.append(scheduler.get_last_lr()[0])\n",
    "            temperature_list.append(temperature)\n",
    "\n",
    "            # update the progress bar\n",
    "            progress_bar.set_description(f'Epoch: {epoch+1}/{epochs} | Re.Loss: {recon_loss.item():.7f}, KL.Loss: {kl_loss.item():.7f} | Lr: {scheduler.get_last_lr()[0]:.7f} Temp: {temperature:.7f}', refresh=True)\n",
    "            progress_bar.update(1)\n",
    "\n",
    "            scheduler.step()  # update the learning rate\n",
    "            temperature -= annealing_rate # update the temperature\n",
    "            temperature = max(temperature, final_temperature)  # make sure the temperature is not lower than the minimum value\n",
    "\n",
    "        # scheduler.step()  \n",
    "        # temperature -= annealing_rate \n",
    "        # temperature = max(temperature, final_temperature)  \n",
    "\n",
    "    progress_bar.close()\n",
    "    final_loss = total_losses[-1]\n",
    "\n",
    "    # plot the losses curve\n",
    "    plt.plot(recon_losses, label='Reconstruction Loss')\n",
    "    plt.plot(kl_losses, label='KL Divergence Loss')\n",
    "    plt.plot(total_losses, label='Total Loss')\n",
    "    plt.xlabel('Steps')\n",
    "    plt.ylabel('Loss')\n",
    "    plt.legend()\n",
    "    plt.show()\n",
    "\n",
    "    # plot the lr curve\n",
    "    plt.plot(lr_list, label='lr')\n",
    "    plt.show()\n",
    "\n",
    "    # plot the temperature curve\n",
    "    plt.plot(temperature_list, label='Temperature')\n",
    "    plt.show()\n",
    "\n",
    "    return dataset, encoder, decoder, final_loss\n"
   ]
  },
  {
   "cell_type": "code",
   "execution_count": 4,
   "metadata": {
    "execution": {
     "iopub.execute_input": "2023-08-07T10:01:59.987626Z",
     "iopub.status.busy": "2023-08-07T10:01:59.987491Z",
     "iopub.status.idle": "2023-08-07T10:01:59.995564Z",
     "shell.execute_reply": "2023-08-07T10:01:59.994871Z",
     "shell.execute_reply.started": "2023-08-07T10:01:59.987610Z"
    }
   },
   "outputs": [],
   "source": [
    "import random\n",
    "\n",
    "def visualize_images(images, num_classes, title):\n",
    "    fig, axes = plt.subplots(1, num_classes, figsize=(num_classes, 1))\n",
    "    for i in range(num_classes):\n",
    "        axes[i].imshow(images[i][0], cmap='gray')\n",
    "        axes[i].axis('off')\n",
    "    # plt.subplots_adjust(wspace=0.2, hspace=0.8)\n",
    "    plt.suptitle(title)\n",
    "    plt.show()\n",
    "\n",
    "def sample_and_reconstruct(dataset, encoder, decoder, input_dim, num_classes, temperature):\n",
    "    samples_per_class = 1\n",
    "    original_images = [[] for _ in range(num_classes)]\n",
    "    reconstructed_images = [[] for _ in range(num_classes)]\n",
    "    selected_classes = [False] * num_classes\n",
    "    \n",
    "    with torch.no_grad():\n",
    "        for x, y in random.sample(list(dataset), len(dataset)): # Shuffle dataset\n",
    "            if all(selected_classes):\n",
    "                break\n",
    "            if selected_classes[y]:\n",
    "                continue\n",
    "            x = x.view(-1, input_dim)\n",
    "            logits = encoder(x)\n",
    "            z = gumbel_softmax(logits, temperature)\n",
    "            x_recon = decoder(z)\n",
    "            original_images[y].append(x.view(28, 28).numpy())\n",
    "            reconstructed_images[y].append(x_recon.view(28, 28).numpy())\n",
    "            selected_classes[y] = True\n",
    "\n",
    "    visualize_images(original_images, num_classes, 'Original Images')\n",
    "    visualize_images(reconstructed_images, num_classes, 'Reconstructed Images')\n",
    "\n"
   ]
  },
  {
   "cell_type": "code",
   "execution_count": 5,
   "metadata": {
    "execution": {
     "iopub.execute_input": "2023-08-07T10:01:59.996609Z",
     "iopub.status.busy": "2023-08-07T10:01:59.996444Z",
     "iopub.status.idle": "2023-08-07T10:02:00.007635Z",
     "shell.execute_reply": "2023-08-07T10:02:00.006902Z",
     "shell.execute_reply.started": "2023-08-07T10:01:59.996591Z"
    }
   },
   "outputs": [],
   "source": [
    "# Generate from latent vector\n",
    "# categorical_dim = 10\n",
    "# input_dim = 28 * 28\n",
    "# temperature = 0.5\n",
    "\n",
    "def generate_from_latent(dataset, encoder, decoder, categorical_dim, temperature):\n",
    "    # init\n",
    "    latent_sums = torch.zeros(categorical_dim, categorical_dim)\n",
    "    class_counts = torch.zeros(categorical_dim, dtype=torch.int)\n",
    "\n",
    "    # calculate the sum of latent vectors for each class\n",
    "    with torch.no_grad():\n",
    "        for img, label in dataset:\n",
    "            img = img.view(-1, input_dim)\n",
    "            logits = encoder(img)\n",
    "            z = gumbel_softmax(logits, temperature).squeeze()\n",
    "            latent_sums[label] += z\n",
    "            class_counts[label] += 1\n",
    "\n",
    "    # calculate the average latent vector for each class\n",
    "    avg_latent_vector = latent_sums / class_counts[:, None]\n",
    "\n",
    "    fig, axes = plt.subplots(1, categorical_dim, figsize=(categorical_dim, 1))\n",
    "\n",
    "    # plot for each class\n",
    "    for i in range(categorical_dim):\n",
    "        generated_img = decoder(avg_latent_vector[i])\n",
    "        generated_img = generated_img.view(28, 28).detach().cpu().numpy()  # 转换为numpy数组\n",
    "        ax = axes[i]\n",
    "        ax.imshow(generated_img, cmap='gray')\n",
    "        ax.set_title(f'Class {i}')\n",
    "        ax.axis('off')\n",
    "\n",
    "    # apply transformations to EMNIST images\n",
    "    if dataset_name == 'EMNIST':\n",
    "        from scipy.ndimage import rotate\n",
    "        plt.close(fig)  # 关闭原始图像\n",
    "        rows = 5\n",
    "        cols = 10\n",
    "        fig, axes = plt.subplots(rows, cols, figsize=(cols * 2, rows * 2))\n",
    "        # fig.subplots_adjust(hspace=0.2, wspace=0.2)  # 调整子图间的间距\n",
    "        fig.suptitle('Generated EMNIST Images (rotated and flipped)')\n",
    "\n",
    "        for i in range(categorical_dim):\n",
    "            row = i // cols\n",
    "            col = i % cols\n",
    "            generated_img = decoder(avg_latent_vector[i])\n",
    "            generated_img = generated_img.view(28, 28).detach().cpu().numpy()\n",
    "            generated_img = rotate(generated_img, -90)  # 逆时针旋转90度\n",
    "            generated_img = np.fliplr(generated_img)  # 水平镜像\n",
    "            ax = axes[row, col]\n",
    "            ax.imshow(generated_img, cmap='gray')\n",
    "            ax.set_title(f'Class {i}')\n",
    "            ax.axis('off')\n",
    "        # 隐藏多余的子图\n",
    "        for i in range(categorical_dim, rows * cols):\n",
    "            row = i // cols\n",
    "            col = i % cols\n",
    "            axes[row, col].axis('off')\n",
    "        fig.tight_layout()\n",
    "\n",
    "    plt.show()\n"
   ]
  },
  {
   "cell_type": "code",
   "execution_count": 6,
   "metadata": {
    "execution": {
     "iopub.execute_input": "2023-08-07T10:02:00.008914Z",
     "iopub.status.busy": "2023-08-07T10:02:00.008746Z",
     "iopub.status.idle": "2023-08-07T10:02:00.323709Z",
     "shell.execute_reply": "2023-08-07T10:02:00.323145Z",
     "shell.execute_reply.started": "2023-08-07T10:02:00.008895Z"
    }
   },
   "outputs": [],
   "source": [
    "from sklearn.manifold import TSNE\n",
    "import numpy as np\n",
    "\n",
    "def visualize_latent(dataset_name, encoder, num_classes=10, temperature=1.0):\n",
    "    # init\n",
    "    latent_vectors = torch.empty(0, categorical_dim)\n",
    "    Y = torch.empty(0, dtype=torch.long)\n",
    "    dataloader = DataLoader(dataset, batch_size=batch_size, shuffle=True)\n",
    "\n",
    "    # send dataset to encoder\n",
    "    with torch.no_grad():\n",
    "        for x, y in dataloader:\n",
    "            x = x.view(-1, input_dim)\n",
    "            logits = encoder(x)\n",
    "            z = gumbel_softmax(logits, temperature)\n",
    "            latent_vectors = torch.cat([latent_vectors, z])\n",
    "            Y = torch.cat([Y, y])\n",
    "\n",
    "    # convert latent vectors to numpy arrays\n",
    "    latent_vectors = latent_vectors.cpu().numpy()\n",
    "    Y = Y.cpu().numpy()\n",
    "\n",
    "    # run t-SNE on latent vectors to get 2D embedding\n",
    "    tsne = TSNE(n_components=2)\n",
    "    latent_vectors_2d = tsne.fit_transform(latent_vectors)\n",
    "\n",
    "    # plot 2D embedding\n",
    "    plt.figure(figsize=(8, 8))\n",
    "    scatter = plt.scatter(latent_vectors_2d[:, 0], latent_vectors_2d[:, 1], c=Y, cmap='tab10')\n",
    "    if dataset_name == 'EMNIST':\n",
    "        scatter = plt.scatter(latent_vectors_2d[:, 0], latent_vectors_2d[:, 1], c=Y, cmap='tab20')\n",
    "    plt.colorbar(scatter, label='Class Labels')\n",
    "    for i in range(num_classes):\n",
    "        centroid = np.mean(latent_vectors_2d[Y == i], axis=0)\n",
    "        plt.text(centroid[0], centroid[1], str(i), color='black', fontsize=12, fontweight='bold', ha='center', va='center')\n",
    "    plt.show()\n",
    "\n",
    "    # cm\n",
    "    from sklearn.metrics import confusion_matrix\n",
    "    import seaborn as sns\n",
    "\n",
    "    # find the most likely label for each test input\n",
    "    predicted_labels = latent_vectors.argmax(axis=1)\n",
    "\n",
    "    # calculate the confusion matrix\n",
    "    cm = confusion_matrix(Y, predicted_labels)\n",
    "\n",
    "    # plot the confusion matrix\n",
    "    plt.figure(figsize=(10, 8))\n",
    "    if dataset_name == 'EMNIST':\n",
    "        plt.figure(figsize=(50, 40))\n",
    "    sns.heatmap(cm, annot=True, fmt=\"d\", cmap='Blues')\n",
    "    plt.xlabel('Predicted')\n",
    "    plt.ylabel('True')\n",
    "    plt.show()\n",
    "\n",
    "    # calculate accuracy\n",
    "    from sklearn.metrics import adjusted_rand_score\n",
    "    rand_index = adjusted_rand_score(Y, predicted_labels)\n",
    "    print(\"Rand index: \", rand_index)\n"
   ]
  },
  {
   "cell_type": "code",
   "execution_count": null,
   "metadata": {
    "execution": {
     "iopub.execute_input": "2023-08-07T10:02:00.324743Z",
     "iopub.status.busy": "2023-08-07T10:02:00.324589Z"
    }
   },
   "outputs": [
    {
     "name": "stderr",
     "output_type": "stream",
     "text": [
      "\u001b[32m[I 2023-08-07 18:02:00,502]\u001b[0m A new study created in memory with name: no-name-3eb3d73c-45ab-4081-89ba-88c62275d04e\u001b[0m\n",
      "Epoch: 89/89 | Re.Loss: 157.0517120, KL.Loss: 117.3037567 | Lr: 0.0000010 Temp: 0.3754590: 100%|██████████| 10235/10235 [07:20<00:00, 23.23it/s] \n"
     ]
    },
    {
     "data": {
      "image/png": "[encoded data removed]",
      "text/plain": [
       "<Figure size 432x288 with 1 Axes>"
      ]
     },
     "metadata": {
      "needs_background": "light"
     },
     "output_type": "display_data"
    },
    {
     "data": {
      "image/png": "[encoded data removed]",
      "text/plain": [
       "<Figure size 432x288 with 1 Axes>"
      ]
     },
     "metadata": {
      "needs_background": "light"
     },
     "output_type": "display_data"
    },
    {
     "data": {
      "image/png": "[encoded data removed]",
      "text/plain": [
       "<Figure size 432x288 with 1 Axes>"
      ]
     },
     "metadata": {
      "needs_background": "light"
     },
     "output_type": "display_data"
    },
    {
     "name": "stderr",
     "output_type": "stream",
     "text": [
      "\u001b[32m[I 2023-08-07 18:09:28,283]\u001b[0m Trial 0 finished with value: 274.35546875 and parameters: {'hidden_dim_1': 221, 'hidden_dim_2': 486, 'batch_size': 526, 'epochs': 89, 'initial_lr': 4.61396324532589e-05, 'end_lr': 1.0454002154663251e-06, 'temperature': 0.7303472494507808, 'final_temperature': 0.37542430540934446, 'beta': 33.722223823850335}. Best is trial 0 with value: 274.35546875.\u001b[0m\n"
     ]
    },
    {
     "name": "stdout",
     "output_type": "stream",
     "text": [
      "Finished trail 0/100 | Final loss: 274.35546875\n"
     ]
    },
    {
     "name": "stderr",
     "output_type": "stream",
     "text": [
      "Epoch: 157/157 | Re.Loss: 170.1009369, KL.Loss: 28.3223763 | Lr: 0.0000009 Temp: 0.4876974: 100%|██████████| 41605/41605 [14:18<00:00, 48.46it/s] \n"
     ]
    },
    {
     "data": {
      "image/png": "[encoded data removed]",
      "text/plain": [
       "<Figure size 432x288 with 1 Axes>"
      ]
     },
     "metadata": {
      "needs_background": "light"
     },
     "output_type": "display_data"
    },
    {
     "data": {
      "image/png": "[encoded data removed]",
      "text/plain": [
       "<Figure size 432x288 with 1 Axes>"
      ]
     },
     "metadata": {
      "needs_background": "light"
     },
     "output_type": "display_data"
    },
    {
     "data": {
      "image/png": "[encoded data removed]",
      "text/plain": [
       "<Figure size 432x288 with 1 Axes>"
      ]
     },
     "metadata": {
      "needs_background": "light"
     },
     "output_type": "display_data"
    },
    {
     "name": "stderr",
     "output_type": "stream",
     "text": [
      "\u001b[32m[I 2023-08-07 18:23:51,331]\u001b[0m Trial 1 finished with value: 198.42330932617188 and parameters: {'hidden_dim_1': 210, 'hidden_dim_2': 242, 'batch_size': 227, 'epochs': 157, 'initial_lr': 0.048749821372024944, 'end_lr': 9.049812059094867e-07, 'temperature': 0.99005577514868, 'final_temperature': 0.48768527636618164, 'beta': 3.3972210738832733}. Best is trial 1 with value: 198.42330932617188.\u001b[0m\n"
     ]
    },
    {
     "name": "stdout",
     "output_type": "stream",
     "text": [
      "Finished trail 1/100 | Final loss: 198.42330932617188\n"
     ]
    },
    {
     "name": "stderr",
     "output_type": "stream",
     "text": [
      "Epoch: 165/256 | Re.Loss: 173.2183533, KL.Loss: 142.0151672 | Lr: 0.0136996 Temp: 0.7405369:  64%|██████▍   | 12660/19712 [13:24<07:18, 16.07it/s] "
     ]
    }
   ],
   "source": [
    "# 超参数调优\n",
    "import optuna\n",
    "current_trial = 0\n",
    "\n",
    "hidden_dim_1 = 996\n",
    "hidden_dim_2 = 360\n",
    "batch_size = 16\n",
    "epochs = 300\n",
    "initial_lr = 0.00070\n",
    "\n",
    "temperature = 0.8\n",
    "final_temperature = 1.3\n",
    "beta = 20\n",
    "\n",
    "# 记录文件名\n",
    "log_file = 'trials_log.txt'\n",
    "\n",
    "def objective(trial):\n",
    "    torch.cuda.empty_cache()\n",
    "    global current_trial\n",
    "    dataset_name = 'MNIST'\n",
    "    end_lr = trial.suggest_float('end_lr', 1e-7, 1e-3, log=True)\n",
    "    dataset, encoder, decoder, final_loss = train_and_plot(dataset_name, hidden_dim_1, hidden_dim_2, batch_size, epochs, initial_lr, end_lr, temperature, final_temperature, beta)\n",
    "    \n",
    "    print(f'Finished trail {current_trial}/100 | Final loss: {final_loss}')\n",
    "    current_trial += 1\n",
    "    \n",
    "    # 记录参数和结果\n",
    "    with open(log_file, 'a') as f:\n",
    "        f.write(f'Trial {current_trial}: \\n')\n",
    "        f.write(f'    End LR: {end_lr}\\n')\n",
    "        f.write(f'    Final Loss: {final_loss}\\n')\n",
    "        f.write('-' * 50 + '\\n')\n",
    "    \n",
    "    return final_loss\n",
    "\n",
    "study = optuna.create_study(direction='minimize')\n",
    "study.optimize(objective, n_trials=50)\n",
    "\n",
    "print('Number of finished trials: ', len(study.trials))\n",
    "print('Best trial:')\n",
    "trial = study.best_trial\n",
    "\n",
    "print('Value: ', trial.value)\n",
    "print('Params: ')\n",
    "for key, value in trial.params.items():\n",
    "    print(f'    {key}: {value}')\n",
    "\n",
    "# 记录参数和结果\n",
    "with open(log_file, 'a') as f:\n",
    "    f.write(f'Best Trial: \\n')\n",
    "    f.write(f'    Hidden Dim 1: {trial.params[\"hidden_dim_1\"]}\\n')\n",
    "    f.write(f'    Hidden Dim 2: {trial.params[\"hidden_dim_2\"]}\\n')\n",
    "    f.write(f'    Batch Size: {trial.params[\"batch_size\"]}\\n')\n",
    "    f.write(f'    Epochs: {trial.params[\"epochs\"]}\\n')\n",
    "    f.write(f'    Initial LR: {trial.params[\"initial_lr\"]}\\n')\n",
    "    f.write(f'    End LR: {trial.params[\"end_lr\"]}\\n')\n",
    "    f.write(f'    Temperature: {trial.params[\"temperature\"]}\\n')\n",
    "    f.write(f'    Final Temperature: {trial.params[\"final_temperature\"]}\\n')\n",
    "    f.write(f'    Beta: {trial.params[\"beta\"]}\\n')\n",
    "    f.write(f'    Final Loss: {trial.value}\\n')\n",
    "    f.write('-' * 50 + '\\n')\n",
    "\n"
   ]
  },
  {
   "cell_type": "code",
   "execution_count": null,
   "metadata": {},
   "outputs": [],
   "source": [
    "dataset_name = 'MNIST'\n",
    "hidden_dim_1 = 512\n",
    "hidden_dim_2 = 256\n",
    "batch_size = 32\n",
    "epochs = 4\n",
    "initial_lr = 1e-3\n",
    "temperature = 1.0\n",
    "final_temperature = 0.3\n",
    "\n",
    "dataset, encoder, decoder, final_loss = train_and_plot(dataset_name, hidden_dim_1, hidden_dim_2, batch_size, epochs, initial_lr, temperature, final_temperature)"
   ]
  },
  {
   "cell_type": "code",
   "execution_count": null,
   "metadata": {},
   "outputs": [],
   "source": [
    "sample_and_reconstruct(dataset, encoder, decoder, input_dim=28*28, num_classes=10, temperature=0.5)"
   ]
  },
  {
   "cell_type": "code",
   "execution_count": null,
   "metadata": {},
   "outputs": [],
   "source": [
    "categorical_dim = 10\n",
    "input_dim = 28 * 28\n",
    "temperature = 0.5\n",
    "generate_from_latent(dataset, encoder, decoder, categorical_dim=10, temperature=0.5)"
   ]
  },
  {
   "cell_type": "code",
   "execution_count": null,
   "metadata": {},
   "outputs": [],
   "source": [
    "visualize_latent(dataset_name, encoder, num_classes=10, temperature=0.5)"
   ]
  }
 ],
 "metadata": {
  "kernelspec": {
   "display_name": "Python 3",
   "language": "python",
   "name": "python3"
  },
  "language_info": {
   "codemirror_mode": {
    "name": "ipython",
    "version": 3
   },
   "file_extension": ".py",
   "mimetype": "text/x-python",
   "name": "python",
   "nbconvert_exporter": "python",
   "pygments_lexer": "ipython3",
   "version": "3.6.12"
  }
 },
 "nbformat": 4,
 "nbformat_minor": 4
}
